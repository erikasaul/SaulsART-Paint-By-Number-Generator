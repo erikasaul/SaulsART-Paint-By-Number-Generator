{
 "cells": [
  {
   "cell_type": "code",
   "execution_count": null,
   "id": "dd521cf1-16d4-4e6c-92f2-863657aa1a69",
   "metadata": {},
   "outputs": [],
   "source": [
    "# This cell just starts the GUI. Run it and a new tab pops up.\n",
    "from saulsart_pbn_generator import FastPaintByNumbersApp\n",
    "FastPaintByNumbersApp().mainloop()\n"
   ]
  }
 ],
 "metadata": {
  "kernelspec": {
   "display_name": "Python 3 (ipykernel)",
   "language": "python",
   "name": "python3"
  },
  "language_info": {
   "codemirror_mode": {
    "name": "ipython",
    "version": 3
   },
   "file_extension": ".py",
   "mimetype": "text/x-python",
   "name": "python",
   "nbconvert_exporter": "python",
   "pygments_lexer": "ipython3",
   "version": "3.9.21"
  }
 },
 "nbformat": 4,
 "nbformat_minor": 5
}
